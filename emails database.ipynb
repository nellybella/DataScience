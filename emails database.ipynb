{
 "cells": [
  {
   "cell_type": "code",
   "execution_count": 59,
   "metadata": {},
   "outputs": [],
   "source": [
    "import sqlite3\n",
    "import pandas as pd"
   ]
  },
  {
   "cell_type": "code",
   "execution_count": 60,
   "metadata": {},
   "outputs": [],
   "source": [
    "file = open('emails.txt')\n",
    "fhandler = file.readlines()\n",
    "emails_list = []\n",
    "for lines in fhandler:\n",
    "    if lines.startswith('From'):\n",
    "        line = lines.split()\n",
    "        emails_list.append(line[1])\n"
   ]
  },
  {
   "cell_type": "code",
   "execution_count": null,
   "metadata": {},
   "outputs": [],
   "source": []
  },
  {
   "cell_type": "code",
   "execution_count": 61,
   "metadata": {},
   "outputs": [
    {
     "data": {
      "text/html": [
       "<div>\n",
       "<style scoped>\n",
       "    .dataframe tbody tr th:only-of-type {\n",
       "        vertical-align: middle;\n",
       "    }\n",
       "\n",
       "    .dataframe tbody tr th {\n",
       "        vertical-align: top;\n",
       "    }\n",
       "\n",
       "    .dataframe thead th {\n",
       "        text-align: right;\n",
       "    }\n",
       "</style>\n",
       "<table border=\"1\" class=\"dataframe\">\n",
       "  <thead>\n",
       "    <tr style=\"text-align: right;\">\n",
       "      <th></th>\n",
       "      <th>0</th>\n",
       "    </tr>\n",
       "  </thead>\n",
       "  <tbody>\n",
       "    <tr>\n",
       "      <th>0</th>\n",
       "      <td>stephen.marquard@uct.ac.za</td>\n",
       "    </tr>\n",
       "    <tr>\n",
       "      <th>1</th>\n",
       "      <td>stephen.marquard@uct.ac.za</td>\n",
       "    </tr>\n",
       "    <tr>\n",
       "      <th>2</th>\n",
       "      <td>louis@media.berkeley.edu</td>\n",
       "    </tr>\n",
       "    <tr>\n",
       "      <th>3</th>\n",
       "      <td>louis@media.berkeley.edu</td>\n",
       "    </tr>\n",
       "    <tr>\n",
       "      <th>4</th>\n",
       "      <td>zqian@umich.edu</td>\n",
       "    </tr>\n",
       "  </tbody>\n",
       "</table>\n",
       "</div>"
      ],
      "text/plain": [
       "                            0\n",
       "0  stephen.marquard@uct.ac.za\n",
       "1  stephen.marquard@uct.ac.za\n",
       "2    louis@media.berkeley.edu\n",
       "3    louis@media.berkeley.edu\n",
       "4             zqian@umich.edu"
      ]
     },
     "execution_count": 61,
     "metadata": {},
     "output_type": "execute_result"
    }
   ],
   "source": [
    "db_emails = pd.DataFrame(emails_list)\n",
    "db_emails.head()"
   ]
  },
  {
   "cell_type": "code",
   "execution_count": 62,
   "metadata": {},
   "outputs": [
    {
     "data": {
      "text/plain": [
       "zqian@umich.edu                  390\n",
       "mmmay@indiana.edu                322\n",
       "cwen@iupui.edu                   316\n",
       "chmaurer@iupui.edu               222\n",
       "aaronz@vt.edu                    220\n",
       "ian@caret.cam.ac.uk              192\n",
       "jimeng@umich.edu                 186\n",
       "rjlowe@iupui.edu                 180\n",
       "dlhaines@umich.edu               168\n",
       "david.horwitz@uct.ac.za          134\n",
       "ajpoland@iupui.edu                96\n",
       "gjthomas@iupui.edu                88\n",
       "wagnermr@iupui.edu                88\n",
       "sgithens@caret.cam.ac.uk          86\n",
       "ray@media.berkeley.edu            64\n",
       "stephen.marquard@uct.ac.za        58\n",
       "nuno@ufp.pt                       56\n",
       "gsilver@umich.edu                 56\n",
       "josrodri@iupui.edu                56\n",
       "arwhyte@umich.edu                 54\n",
       "bkirschn@umich.edu                54\n",
       "gopal.ramasammycook@gmail.com     50\n",
       "louis@media.berkeley.edu          48\n",
       "csev@umich.edu                    38\n",
       "antranig@caret.cam.ac.uk          36\n",
       "stuart.freeman@et.gatech.edu      34\n",
       "ostermmg@whitman.edu              34\n",
       "zach.thomas@txstate.edu           34\n",
       "kimsooil@bu.edu                   28\n",
       "a.fish@lancaster.ac.uk            28\n",
       "ktsao@stanford.edu                24\n",
       "mbreuker@loi.nl                   18\n",
       "jzaremba@unicon.net               18\n",
       "lance@indiana.edu                 16\n",
       "ggolden@umich.edu                 16\n",
       "john.ellis@rsmart.com             16\n",
       "hu2@iupui.edu                     14\n",
       "tnguyen@iupui.edu                 12\n",
       "knoop@umich.edu                   10\n",
       "ssmail@indiana.edu                10\n",
       "bahollad@indiana.edu               8\n",
       "gbhatnag@umich.edu                 6\n",
       "jleasia@umich.edu                  4\n",
       "thoppaymallika@fhda.edu            2\n",
       "colin.clark@utoronto.ca            2\n",
       "jlrenfro@ucdavis.edu               2\n",
       "Name: 0, dtype: int64"
      ]
     },
     "execution_count": 62,
     "metadata": {},
     "output_type": "execute_result"
    }
   ],
   "source": [
    "count = db_emails[0].value_counts()\n",
    "count"
   ]
  },
  {
   "cell_type": "code",
   "execution_count": 63,
   "metadata": {},
   "outputs": [
    {
     "data": {
      "text/html": [
       "<div>\n",
       "<style scoped>\n",
       "    .dataframe tbody tr th:only-of-type {\n",
       "        vertical-align: middle;\n",
       "    }\n",
       "\n",
       "    .dataframe tbody tr th {\n",
       "        vertical-align: top;\n",
       "    }\n",
       "\n",
       "    .dataframe thead th {\n",
       "        text-align: right;\n",
       "    }\n",
       "</style>\n",
       "<table border=\"1\" class=\"dataframe\">\n",
       "  <thead>\n",
       "    <tr style=\"text-align: right;\">\n",
       "      <th></th>\n",
       "      <th>0</th>\n",
       "    </tr>\n",
       "  </thead>\n",
       "  <tbody>\n",
       "    <tr>\n",
       "      <th>zqian@umich.edu</th>\n",
       "      <td>390</td>\n",
       "    </tr>\n",
       "    <tr>\n",
       "      <th>mmmay@indiana.edu</th>\n",
       "      <td>322</td>\n",
       "    </tr>\n",
       "    <tr>\n",
       "      <th>cwen@iupui.edu</th>\n",
       "      <td>316</td>\n",
       "    </tr>\n",
       "    <tr>\n",
       "      <th>chmaurer@iupui.edu</th>\n",
       "      <td>222</td>\n",
       "    </tr>\n",
       "    <tr>\n",
       "      <th>aaronz@vt.edu</th>\n",
       "      <td>220</td>\n",
       "    </tr>\n",
       "  </tbody>\n",
       "</table>\n",
       "</div>"
      ],
      "text/plain": [
       "                      0\n",
       "zqian@umich.edu     390\n",
       "mmmay@indiana.edu   322\n",
       "cwen@iupui.edu      316\n",
       "chmaurer@iupui.edu  222\n",
       "aaronz@vt.edu       220"
      ]
     },
     "execution_count": 63,
     "metadata": {},
     "output_type": "execute_result"
    }
   ],
   "source": [
    "emails_available = pd.DataFrame(count)\n",
    "emails_available.head()"
   ]
  },
  {
   "cell_type": "code",
   "execution_count": 64,
   "metadata": {},
   "outputs": [
    {
     "data": {
      "text/html": [
       "<div>\n",
       "<style scoped>\n",
       "    .dataframe tbody tr th:only-of-type {\n",
       "        vertical-align: middle;\n",
       "    }\n",
       "\n",
       "    .dataframe tbody tr th {\n",
       "        vertical-align: top;\n",
       "    }\n",
       "\n",
       "    .dataframe thead th {\n",
       "        text-align: right;\n",
       "    }\n",
       "</style>\n",
       "<table border=\"1\" class=\"dataframe\">\n",
       "  <thead>\n",
       "    <tr style=\"text-align: right;\">\n",
       "      <th></th>\n",
       "      <th>index</th>\n",
       "      <th>0</th>\n",
       "    </tr>\n",
       "  </thead>\n",
       "  <tbody>\n",
       "    <tr>\n",
       "      <th>0</th>\n",
       "      <td>zqian@umich.edu</td>\n",
       "      <td>390</td>\n",
       "    </tr>\n",
       "    <tr>\n",
       "      <th>1</th>\n",
       "      <td>mmmay@indiana.edu</td>\n",
       "      <td>322</td>\n",
       "    </tr>\n",
       "    <tr>\n",
       "      <th>2</th>\n",
       "      <td>cwen@iupui.edu</td>\n",
       "      <td>316</td>\n",
       "    </tr>\n",
       "    <tr>\n",
       "      <th>3</th>\n",
       "      <td>chmaurer@iupui.edu</td>\n",
       "      <td>222</td>\n",
       "    </tr>\n",
       "    <tr>\n",
       "      <th>4</th>\n",
       "      <td>aaronz@vt.edu</td>\n",
       "      <td>220</td>\n",
       "    </tr>\n",
       "  </tbody>\n",
       "</table>\n",
       "</div>"
      ],
      "text/plain": [
       "                index    0\n",
       "0     zqian@umich.edu  390\n",
       "1   mmmay@indiana.edu  322\n",
       "2      cwen@iupui.edu  316\n",
       "3  chmaurer@iupui.edu  222\n",
       "4       aaronz@vt.edu  220"
      ]
     },
     "execution_count": 64,
     "metadata": {},
     "output_type": "execute_result"
    }
   ],
   "source": [
    "emails_available.reset_index(inplace=True)\n",
    "emails_available.head()"
   ]
  },
  {
   "cell_type": "code",
   "execution_count": 65,
   "metadata": {},
   "outputs": [
    {
     "data": {
      "text/html": [
       "<div>\n",
       "<style scoped>\n",
       "    .dataframe tbody tr th:only-of-type {\n",
       "        vertical-align: middle;\n",
       "    }\n",
       "\n",
       "    .dataframe tbody tr th {\n",
       "        vertical-align: top;\n",
       "    }\n",
       "\n",
       "    .dataframe thead th {\n",
       "        text-align: right;\n",
       "    }\n",
       "</style>\n",
       "<table border=\"1\" class=\"dataframe\">\n",
       "  <thead>\n",
       "    <tr style=\"text-align: right;\">\n",
       "      <th></th>\n",
       "      <th>emails</th>\n",
       "      <th>counts</th>\n",
       "    </tr>\n",
       "  </thead>\n",
       "  <tbody>\n",
       "    <tr>\n",
       "      <th>0</th>\n",
       "      <td>zqian@umich.edu</td>\n",
       "      <td>390</td>\n",
       "    </tr>\n",
       "    <tr>\n",
       "      <th>1</th>\n",
       "      <td>mmmay@indiana.edu</td>\n",
       "      <td>322</td>\n",
       "    </tr>\n",
       "    <tr>\n",
       "      <th>2</th>\n",
       "      <td>cwen@iupui.edu</td>\n",
       "      <td>316</td>\n",
       "    </tr>\n",
       "    <tr>\n",
       "      <th>3</th>\n",
       "      <td>chmaurer@iupui.edu</td>\n",
       "      <td>222</td>\n",
       "    </tr>\n",
       "    <tr>\n",
       "      <th>4</th>\n",
       "      <td>aaronz@vt.edu</td>\n",
       "      <td>220</td>\n",
       "    </tr>\n",
       "  </tbody>\n",
       "</table>\n",
       "</div>"
      ],
      "text/plain": [
       "               emails  counts\n",
       "0     zqian@umich.edu     390\n",
       "1   mmmay@indiana.edu     322\n",
       "2      cwen@iupui.edu     316\n",
       "3  chmaurer@iupui.edu     222\n",
       "4       aaronz@vt.edu     220"
      ]
     },
     "execution_count": 65,
     "metadata": {},
     "output_type": "execute_result"
    }
   ],
   "source": [
    "emails_available.rename(columns={'index':'emails',0:'counts'},inplace=True)\n",
    "emails_available.head()"
   ]
  },
  {
   "cell_type": "code",
   "execution_count": 66,
   "metadata": {},
   "outputs": [],
   "source": [
    "con = sqlite3.connect('email.db')\n",
    "cur = con.cursor()"
   ]
  },
  {
   "cell_type": "code",
   "execution_count": null,
   "metadata": {},
   "outputs": [],
   "source": []
  }
 ],
 "metadata": {
  "kernelspec": {
   "display_name": "Python 3",
   "language": "python",
   "name": "python3"
  },
  "language_info": {
   "codemirror_mode": {
    "name": "ipython",
    "version": 3
   },
   "file_extension": ".py",
   "mimetype": "text/x-python",
   "name": "python",
   "nbconvert_exporter": "python",
   "pygments_lexer": "ipython3",
   "version": "3.7.0"
  }
 },
 "nbformat": 4,
 "nbformat_minor": 2
}

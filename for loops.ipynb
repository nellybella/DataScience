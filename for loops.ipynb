{
 "cells": [
  {
   "cell_type": "code",
   "execution_count": 6,
   "metadata": {},
   "outputs": [
    {
     "data": {
      "text/plain": [
       "[529, 2025, 36, 49, 64, 6084, 2025]"
      ]
     },
     "execution_count": 6,
     "metadata": {},
     "output_type": "execute_result"
    }
   ],
   "source": [
    "list1 = [23,45,6,7,8,78,45]\n",
    "list2 = []\n",
    "for num in list1:\n",
    "    list2.append(num**2)\n",
    "list2"
   ]
  },
  {
   "cell_type": "code",
   "execution_count": 11,
   "metadata": {},
   "outputs": [
    {
     "name": "stdout",
     "output_type": "stream",
     "text": [
      "23 is an odd number\n",
      "45 is an odd number\n",
      "6 is an even number\n",
      "7 is an odd number\n",
      "8 is an even number\n",
      "78 is an even number\n",
      "45 is an odd number\n"
     ]
    }
   ],
   "source": [
    "for num in list1:\n",
    "    if num % 2 == 0:\n",
    "        print(num,\"is an even number\")\n",
    "    else:\n",
    "        print(num,\"is an odd number\")\n",
    "    "
   ]
  },
  {
   "cell_type": "code",
   "execution_count": 23,
   "metadata": {},
   "outputs": [],
   "source": [
    "def numbers(num):\n",
    "    for num in range(10):\n",
    "        if num % 2 ==0:\n",
    "            print(num, \"is even\")\n",
    "            \n",
    "        else:\n",
    "            print(num, \"is odd\")\n",
    "#numbers(10)"
   ]
  },
  {
   "cell_type": "code",
   "execution_count": 22,
   "metadata": {},
   "outputs": [],
   "source": [
    "def numbers(list1):\n",
    "    for num in list1:\n",
    "        if num % 2 == 0:\n",
    "            print(num, \"is even\")\n",
    "            \n",
    "        else:\n",
    "            print(num, \"is odd\")\n",
    "            \n",
    "#numbers(list1)    "
   ]
  },
  {
   "cell_type": "code",
   "execution_count": 27,
   "metadata": {},
   "outputs": [
    {
     "name": "stdout",
     "output_type": "stream",
     "text": [
      "student1 is mary\n",
      "student2 is james\n",
      "student3 is Mikael\n",
      "student4 is jamie\n"
     ]
    }
   ],
   "source": [
    "dict1 = {\"student1\":\"mary\",\"student2\":\"james\",\"student3\":\"Mikael\",\"student4\":\"jamie\"}\n",
    "for key, value in dict1.items():\n",
    "    print(f\"{key} is {value}\")\n",
    "          "
   ]
  },
  {
   "cell_type": "code",
   "execution_count": null,
   "metadata": {},
   "outputs": [],
   "source": [
    "x = 0\n",
    "while x < 10:\n",
    "    print('x is currently:', x)\n",
    "    print(\"x is still less than 10\")\n",
    "    x += 1\n",
    "    if x == 3:\n",
    "        print(\"x == 3\")\n",
    "    else:\n",
    "        print(\" continuing ...\")\n",
    "        continue\n",
    "    "
   ]
  },
  {
   "cell_type": "code",
   "execution_count": null,
   "metadata": {},
   "outputs": [],
   "source": [
    "x = 0\n",
    "while x < 10:\n",
    "    print('x is currently:', x)\n",
    "    print(\"x is still less than 10\")\n",
    "    x += 1\n",
    "    if x == 3:\n",
    "        print(\"x == 3\")\n",
    "        break\n",
    "    else:\n",
    "        print(\" continuing ...\")\n",
    "        continue\n"
   ]
  }
 ],
 "metadata": {
  "kernelspec": {
   "display_name": "Python 3",
   "language": "python",
   "name": "python3"
  },
  "language_info": {
   "codemirror_mode": {
    "name": "ipython",
    "version": 3
   },
   "file_extension": ".py",
   "mimetype": "text/x-python",
   "name": "python",
   "nbconvert_exporter": "python",
   "pygments_lexer": "ipython3",
   "version": "3.7.0"
  }
 },
 "nbformat": 4,
 "nbformat_minor": 2
}
